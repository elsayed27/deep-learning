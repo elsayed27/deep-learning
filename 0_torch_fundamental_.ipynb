{
  "nbformat": 4,
  "nbformat_minor": 0,
  "metadata": {
    "colab": {
      "provenance": []
    },
    "kernelspec": {
      "name": "python3",
      "display_name": "Python 3"
    },
    "language_info": {
      "name": "python"
    }
  },
  "cells": [
    {
      "cell_type": "markdown",
      "source": [
        "0_torch_fundamental"
      ],
      "metadata": {
        "id": "7xwMMc4cvQ2S"
      }
    },
    {
      "cell_type": "code",
      "source": [
        "import numpy as np"
      ],
      "metadata": {
        "id": "ML97gt5OxnxR"
      },
      "execution_count": 9,
      "outputs": []
    },
    {
      "cell_type": "code",
      "execution_count": 1,
      "metadata": {
        "colab": {
          "base_uri": "https://localhost:8080/"
        },
        "id": "YoiGE9OgvCJH",
        "outputId": "af4da7b9-01ac-44d1-c54b-e2213764aff0"
      },
      "outputs": [
        {
          "output_type": "stream",
          "name": "stdout",
          "text": [
            "2.8.0+cu126\n"
          ]
        }
      ],
      "source": [
        "import torch\n",
        "print(torch.__version__)\n"
      ]
    },
    {
      "cell_type": "code",
      "source": [
        "# اول حاجه هننشاء Tensor\n",
        "ten=torch.tensor([[1,2],[3,4]],  dtype=torch.float32)\n",
        "print(\"tensor:\", ten)\n"
      ],
      "metadata": {
        "colab": {
          "base_uri": "https://localhost:8080/"
        },
        "id": "zwjg7FIBvin2",
        "outputId": "b4e4f546-b68a-4e3f-f21c-03a9ef23b606"
      },
      "execution_count": 2,
      "outputs": [
        {
          "output_type": "stream",
          "name": "stdout",
          "text": [
            "tensor: tensor([[1., 2.],\n",
            "        [3., 4.]])\n"
          ]
        }
      ]
    },
    {
      "cell_type": "code",
      "source": [
        "rand_tensor = torch.rand((2, 3))\n",
        "print(\"\\nRandom Tensor:\\n\", rand_tensor)"
      ],
      "metadata": {
        "colab": {
          "base_uri": "https://localhost:8080/"
        },
        "id": "DuJl3kStxC-i",
        "outputId": "98842fc1-b489-4a3c-8838-4fe0a2324a0e"
      },
      "execution_count": 3,
      "outputs": [
        {
          "output_type": "stream",
          "name": "stdout",
          "text": [
            "\n",
            "Random Tensor:\n",
            " tensor([[0.7752, 0.0593, 0.4699],\n",
            "        [0.4611, 0.1396, 0.2554]])\n"
          ]
        }
      ]
    },
    {
      "cell_type": "code",
      "source": [
        "zeros = torch.zeros((2, 2))\n",
        "ones = torch.ones((2, 2))\n",
        "print(\"\\nZeros:\\n\", zeros)\n",
        "print(\"Ones:\\n\", ones)"
      ],
      "metadata": {
        "colab": {
          "base_uri": "https://localhost:8080/"
        },
        "id": "DuYYECVaxIX_",
        "outputId": "2ed63b02-e38a-4fbb-fd5a-a229777f6044"
      },
      "execution_count": 4,
      "outputs": [
        {
          "output_type": "stream",
          "name": "stdout",
          "text": [
            "\n",
            "Zeros:\n",
            " tensor([[0., 0.],\n",
            "        [0., 0.]])\n",
            "Ones:\n",
            " tensor([[1., 1.],\n",
            "        [1., 1.]])\n"
          ]
        }
      ]
    },
    {
      "cell_type": "code",
      "source": [
        "y = torch.tensor([[5, 6], [7, 8]], dtype=torch.float32)\n",
        "\n",
        "# الجمع والطرح\n",
        "sum_result = ten + y\n",
        "sub_result = y - ten\n",
        "\n",
        "# الضرب العنصري والمصفوفي\n",
        "mul_result = ten * y\n",
        "matmul_result = torch.matmul(ten, y)\n",
        "\n",
        "print(\"\\nSum:\\n\", sum_result)\n",
        "print(\"\\nSubtraction:\\n\", sub_result)\n",
        "print(\"\\nElement-wise Multiply:\\n\", mul_result)\n",
        "print(\"\\nMatrix Multiply:\\n\", matmul_result)\n"
      ],
      "metadata": {
        "colab": {
          "base_uri": "https://localhost:8080/"
        },
        "id": "xEogb9RWxM8w",
        "outputId": "3cb88a6b-474f-47e3-91da-fd9320bdf233"
      },
      "execution_count": 8,
      "outputs": [
        {
          "output_type": "stream",
          "name": "stdout",
          "text": [
            "\n",
            "Sum:\n",
            " tensor([[ 6.,  8.],\n",
            "        [10., 12.]])\n",
            "\n",
            "Subtraction:\n",
            " tensor([[4., 4.],\n",
            "        [4., 4.]])\n",
            "\n",
            "Element-wise Multiply:\n",
            " tensor([[ 5., 12.],\n",
            "        [21., 32.]])\n",
            "\n",
            "Matrix Multiply:\n",
            " tensor([[19., 22.],\n",
            "        [43., 50.]])\n"
          ]
        }
      ]
    },
    {
      "cell_type": "code",
      "source": [
        "# Tensor إلى NumPy\n",
        "numpy_array = ten.numpy()\n",
        "print(\"\\nTensor to NumPy:\\n\", numpy_array)\n",
        "\n",
        "# NumPy إلى Tensor\n",
        "new_tensor = torch.from_numpy(numpy_array)\n",
        "print(\"\\nNumPy to Tensor:\\n\", new_tensor)\n"
      ],
      "metadata": {
        "colab": {
          "base_uri": "https://localhost:8080/"
        },
        "id": "677boXEpxSyh",
        "outputId": "b4b84cd5-c825-435a-8e5c-1c93e7785ea6"
      },
      "execution_count": 12,
      "outputs": [
        {
          "output_type": "stream",
          "name": "stdout",
          "text": [
            "\n",
            "Tensor to NumPy:\n",
            " [[1. 2.]\n",
            " [3. 4.]]\n",
            "\n",
            "NumPy to Tensor:\n",
            " tensor([[1., 2.],\n",
            "        [3., 4.]])\n"
          ]
        }
      ]
    },
    {
      "cell_type": "code",
      "source": [
        "a = torch.tensor(3.0, requires_grad=True)\n",
        "b = torch.tensor(4.0, requires_grad=True)\n",
        "\n",
        "# دالة بسيطة z = a² + 2b\n",
        "z = a**2 + 2*b\n",
        "\n",
        "# حساب المشتقات\n",
        "z.backward()\n",
        "\n",
        "print(\"\\nGradient of a:\", a.grad)\n",
        "print(\"Gradient of b:\", b.grad)\n"
      ],
      "metadata": {
        "colab": {
          "base_uri": "https://localhost:8080/"
        },
        "id": "b92Whu-Nxxro",
        "outputId": "55f647e7-88e3-4ce3-9b99-860693404055"
      },
      "execution_count": 13,
      "outputs": [
        {
          "output_type": "stream",
          "name": "stdout",
          "text": [
            "\n",
            "Gradient of a: tensor(6.)\n",
            "Gradient of b: tensor(2.)\n"
          ]
        }
      ]
    },
    {
      "cell_type": "code",
      "source": [],
      "metadata": {
        "id": "2zyrcvMOx8uM"
      },
      "execution_count": null,
      "outputs": []
    }
  ]
}